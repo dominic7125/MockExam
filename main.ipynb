{
 "cells": [
  {
   "cell_type": "code",
   "execution_count": 1,
   "metadata": {},
   "outputs": [
    {
     "data": {
      "text/markdown": [
       "<h3>A Machine Learning Specialist is deciding between building a naive Bayesian model or a full Bayesian network for a classification problem. The Specialist computes the Pearson correlation coefficients between each feature and finds that their absolute values range between 0.1 to 0.95. Which model describes the underlying data in this situation?</h3><br/>"
      ],
      "text/plain": [
       "<IPython.core.display.Markdown object>"
      ]
     },
     "metadata": {},
     "output_type": "display_data"
    },
    {
     "data": {
      "text/markdown": [
       "<h5>1. A naive Bayesian model, since the features are all conditionally independent.</h5><br/>"
      ],
      "text/plain": [
       "<IPython.core.display.Markdown object>"
      ]
     },
     "metadata": {},
     "output_type": "display_data"
    },
    {
     "data": {
      "text/markdown": [
       "<h5>2. A full Bayesian network, since some of the features are statistically dependent.</h5><br/>"
      ],
      "text/plain": [
       "<IPython.core.display.Markdown object>"
      ]
     },
     "metadata": {},
     "output_type": "display_data"
    },
    {
     "data": {
      "text/markdown": [
       "<h5>3. A naive Bayesian model, since some of the features are statistically dependent.</h5><br/>"
      ],
      "text/plain": [
       "<IPython.core.display.Markdown object>"
      ]
     },
     "metadata": {},
     "output_type": "display_data"
    },
    {
     "data": {
      "text/markdown": [
       "<h5>4. A full Bayesian network, since the features are all conditionally independent.</h5><br/>"
      ],
      "text/plain": [
       "<IPython.core.display.Markdown object>"
      ]
     },
     "metadata": {},
     "output_type": "display_data"
    },
    {
     "name": "stdout",
     "output_type": "stream",
     "text": [
      "\n",
      "Correct answer :  [2]\n",
      "You answered 1 questions and got 0 correct. Score : 0.0\n"
     ]
    }
   ],
   "source": [
    "import json\n",
    "import random\n",
    "from tqdm import tqdm\n",
    "from IPython.display import clear_output, display, Image, Markdown\n",
    "\n",
    "with open(\"AWSMLP_QuestionBank.json\") as json_file:\n",
    "    data = json.load(json_file)\n",
    "    \n",
    "PRACTICE_MODE = True\n",
    "\n",
    "correct = 0\n",
    "question_stack = []\n",
    "index_stack = []\n",
    "questions = random.sample(data[\"Questions\"][:], 65)\n",
    "idx = 0\n",
    "\n",
    "while idx < len(questions):\n",
    "    question = questions[idx]\n",
    "    question_stack.append(question)\n",
    "    index_stack.append(idx)\n",
    "    \n",
    "    display(Markdown(f\"<h3>{question['question']}</h3><br/>\"))\n",
    "    \n",
    "    if question['image'] != \"\":\n",
    "        display(Image(filename=question['image']))\n",
    "\n",
    "    all_options = question[\"options\"] + question[\"answer\"]\n",
    "\n",
    "    random.shuffle(all_options)\n",
    "\n",
    "    correct_answers = []\n",
    "    for i, option in enumerate(all_options):\n",
    "        if option in question[\"answer\"]:\n",
    "            correct_answers.append(i+1)\n",
    "        display(Markdown(f\"<h5>{i+1}. {option}</h5><br/>\"))\n",
    "\n",
    "    my_answer = input(\"Enter your answer or type 'q' to end the quiz or 'b' to go back to the previous question:\")\n",
    "    \n",
    "    if my_answer.lower() == 'q':\n",
    "        break\n",
    "    \n",
    "    if my_answer.lower() == 'b':\n",
    "        if len(question_stack) > 1:\n",
    "            question_stack.pop()\n",
    "            idx = index_stack.pop() - 1\n",
    "            clear_output(wait=True)\n",
    "            continue\n",
    "        else:\n",
    "            print(\"This is the first question, cannot go back.\")\n",
    "            continue\n",
    "    \n",
    "    if PRACTICE_MODE:\n",
    "        print(\"\\nCorrect answer : \", correct_answers)\n",
    "        my_key = input(\"\\nPress any key to continue or type 'q' to quit.\")\n",
    "        if my_key.lower() == 'q':\n",
    "            break\n",
    "            \n",
    "    clear_output(wait=True)\n",
    "    \n",
    "    my_answer_split = my_answer.split(',')\n",
    "    \n",
    "    correct_count = 0\n",
    "    for split_answer in my_answer_split:\n",
    "        try:\n",
    "            if int(split_answer) in correct_answers:\n",
    "                correct_count += 1\n",
    "        except (ValueError, TypeError):\n",
    "            pass\n",
    "    \n",
    "    if correct_count == len(correct_answers):\n",
    "        correct += 1\n",
    "        \n",
    "    idx += 1\n",
    "\n",
    "print(f\"You answered {idx} questions and got {correct} correct. Score : {round(correct*100 / idx, 2)}\")\n"
   ]
  }
 ],
 "metadata": {
  "kernelspec": {
   "display_name": "base",
   "language": "python",
   "name": "python3"
  },
  "language_info": {
   "codemirror_mode": {
    "name": "ipython",
    "version": 3
   },
   "file_extension": ".py",
   "mimetype": "text/x-python",
   "name": "python",
   "nbconvert_exporter": "python",
   "pygments_lexer": "ipython3",
   "version": "3.8.8"
  }
 },
 "nbformat": 4,
 "nbformat_minor": 2
}
